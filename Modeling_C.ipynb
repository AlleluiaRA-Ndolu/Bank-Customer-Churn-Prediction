{
  "nbformat": 4,
  "nbformat_minor": 0,
  "metadata": {
    "colab": {
      "provenance": []
    },
    "kernelspec": {
      "name": "python3",
      "display_name": "Python 3"
    },
    "language_info": {
      "name": "python"
    }
  },
  "cells": [
    {
      "cell_type": "code",
      "source": [
        "!pip install -q streamlit"
      ],
      "metadata": {
        "colab": {
          "base_uri": "https://localhost:8080/"
        },
        "id": "BChcXTpyN7vR",
        "outputId": "1a5c0e2b-7a31-4d34-a9fa-db5ea6a60450"
      },
      "execution_count": 1,
      "outputs": [
        {
          "output_type": "stream",
          "name": "stdout",
          "text": [
            "\u001b[2K     \u001b[90m━━━━━━━━━━━━━━━━━━━━━━━━━━━━━━━━━━━━━━━━\u001b[0m \u001b[32m8.1/8.1 MB\u001b[0m \u001b[31m22.0 MB/s\u001b[0m eta \u001b[36m0:00:00\u001b[0m\n",
            "\u001b[2K     \u001b[90m━━━━━━━━━━━━━━━━━━━━━━━━━━━━━━━━━━━━━━━━\u001b[0m \u001b[32m207.3/207.3 kB\u001b[0m \u001b[31m19.3 MB/s\u001b[0m eta \u001b[36m0:00:00\u001b[0m\n",
            "\u001b[2K     \u001b[90m━━━━━━━━━━━━━━━━━━━━━━━━━━━━━━━━━━━━━━━━\u001b[0m \u001b[32m6.9/6.9 MB\u001b[0m \u001b[31m57.4 MB/s\u001b[0m eta \u001b[36m0:00:00\u001b[0m\n",
            "\u001b[2K     \u001b[90m━━━━━━━━━━━━━━━━━━━━━━━━━━━━━━━━━━━━━━━━\u001b[0m \u001b[32m83.0/83.0 kB\u001b[0m \u001b[31m9.2 MB/s\u001b[0m eta \u001b[36m0:00:00\u001b[0m\n",
            "\u001b[2K     \u001b[90m━━━━━━━━━━━━━━━━━━━━━━━━━━━━━━━━━━━━━━━━\u001b[0m \u001b[32m62.7/62.7 kB\u001b[0m \u001b[31m7.1 MB/s\u001b[0m eta \u001b[36m0:00:00\u001b[0m\n",
            "\u001b[?25h"
          ]
        }
      ]
    },
    {
      "cell_type": "code",
      "execution_count": 4,
      "metadata": {
        "colab": {
          "base_uri": "https://localhost:8080/"
        },
        "id": "7IR2Ot6iKu8-",
        "outputId": "1c6a4022-e02b-462c-ff6f-f7fd959b623d"
      },
      "outputs": [
        {
          "output_type": "stream",
          "name": "stdout",
          "text": [
            "Overwriting app.py\n"
          ]
        }
      ],
      "source": [
        "%%writefile app.py\n",
        "import streamlit as st\n",
        "import joblib\n",
        "import numpy as np\n",
        "import pandas as pd\n",
        "\n",
        "# Load the machine learning model and encoders\n",
        "model = joblib.load('XGBoost.pkl')\n",
        "gender_encode = joblib.load('gender_encode.pkl')\n",
        "label_encode = joblib.load('label_encode.pkl')\n",
        "\n",
        "def main():\n",
        "    st.title('Churn Model Deployment')\n",
        "    st.header('Fill data down below!')\n",
        "\n",
        "    # Add user input components for features\n",
        "    credit_score = st.number_input('Credit Score', min_value=300, max_value=850, value=500)\n",
        "    geography = st.selectbox('Geography', ['France', 'Germany', 'Spain'])\n",
        "    gender = st.radio('Gender', ['Male', 'Female'])\n",
        "    age = st.number_input('Age', min_value=18, max_value=100, value=30)\n",
        "    tenure = st.number_input('Tenure', min_value=0, max_value=20, value=5)\n",
        "    balance = st.number_input('Balance', min_value=0.0, value=0.0)\n",
        "    num_of_products = st.number_input('Number of Products', min_value=1, max_value=4, value=1)\n",
        "    has_cr_card = st.radio('Has Credit Card', ['Yes', 'No'])\n",
        "    is_active_member = st.radio('Is Active Member', ['Yes', 'No'])\n",
        "    estimated_salary = st.number_input('Estimated Salary', min_value=0.0, value=0.0)\n",
        "\n",
        "\n",
        "    # Collect user input data\n",
        "    input_data = {\n",
        "        'CreditScore': int(credit_score),\n",
        "        'Geography': geography,\n",
        "        'Gender': gender,\n",
        "        'Age': int(age),\n",
        "        'Tenure': int(tenure),\n",
        "        'Balance': float(balance),\n",
        "        'NumOfProducts': int(num_of_products),\n",
        "        'HasCrCard': 1 if has_cr_card == 'Yes' else 0,\n",
        "        'IsActiveMember': 1 if is_active_member == 'Yes' else 0,\n",
        "        'EstimatedSalary': float(estimated_salary)\n",
        "        }\n",
        "\n",
        "    df=pd.DataFrame([list(input_data.values())], columns=['CreditScore', 'Geography','Gender', 'Age', 'Tenure', 'Balance', 'NumOfProducts', 'HasCrCard', 'IsActiveMember', 'EstimatedSalary'])\n",
        "\n",
        "    # Binary Encode for Gender column\n",
        "    df=df.replace(gender_encode)\n",
        "\n",
        "    # Label Encode for Geography column\n",
        "    df['Geography'] = label_encode.fit_transform(df['Geography'])\n",
        "\n",
        "\n",
        "    if st.button('Make Prediction'):\n",
        "        features=df\n",
        "        result = make_prediction(features)\n",
        "        st.success(f'The prediction is: {result}')\n",
        "        if result == 1:\n",
        "          st.write(\"It indicates that the customer is expected to churn.\")\n",
        "        else:\n",
        "          st.write(\"It indicates that the customer is not expected to churn\")\n",
        "\n",
        "def make_prediction(features):\n",
        "    # Use the loaded model to make predictions\n",
        "    # Replace this with the actual code for your model\n",
        "    input_array = np.array(features).reshape(1, -1)\n",
        "    prediction = model.predict(input_array)\n",
        "    return prediction[0]\n",
        "\n",
        "if __name__ == '__main__':\n",
        "    main()\n"
      ]
    }
  ]
}