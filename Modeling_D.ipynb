{
  "nbformat": 4,
  "nbformat_minor": 0,
  "metadata": {
    "colab": {
      "provenance": []
    },
    "kernelspec": {
      "name": "python3",
      "display_name": "Python 3"
    },
    "language_info": {
      "name": "python"
    }
  },
  "cells": [
    {
      "cell_type": "code",
      "execution_count": 1,
      "metadata": {
        "id": "DqE-cLV6OeGA"
      },
      "outputs": [],
      "source": [
        "!pip install -q streamlit"
      ]
    },
    {
      "cell_type": "markdown",
      "metadata": {
        "id": "waCfwniZOow8"
      },
      "source": [
        "## Create a streamlit app example\n"
      ]
    },
    {
      "cell_type": "markdown",
      "source": [
        "Memakai prediction code yang sudah dibuat di C"
      ],
      "metadata": {
        "id": "7dkcHEBMkhUU"
      }
    },
    {
      "cell_type": "code",
      "source": [
        "%%writefile prediction_code.py\n",
        "import streamlit as st\n",
        "import joblib\n",
        "import numpy as np\n",
        "import pandas as pd\n",
        "\n",
        "# Load the machine learning model and encoders\n",
        "model = joblib.load('XGBoost.pkl')\n",
        "gender_encode = joblib.load('gender_encode.pkl')\n",
        "label_encode = joblib.load('label_encode.pkl')\n",
        "\n",
        "def main():\n",
        "    st.title('Churn Model Deployment')\n",
        "    st.header('Fill data down below!')\n",
        "\n",
        "    # Add user input components for features\n",
        "    credit_score = st.number_input('Credit Score', min_value=300, max_value=850, value=500)\n",
        "    geography = st.selectbox('Geography', ['France', 'Germany', 'Spain'])\n",
        "    gender = st.radio('Gender', ['Male', 'Female'])\n",
        "    age = st.number_input('Age', min_value=18, max_value=100, value=30)\n",
        "    tenure = st.number_input('Tenure', min_value=0, max_value=20, value=5)\n",
        "    balance = st.number_input('Balance', min_value=0.0, value=0.0)\n",
        "    num_of_products = st.number_input('Number of Products', min_value=1, max_value=4, value=1)\n",
        "    has_cr_card = st.radio('Has Credit Card', ['Yes', 'No'])\n",
        "    is_active_member = st.radio('Is Active Member', ['Yes', 'No'])\n",
        "    estimated_salary = st.number_input('Estimated Salary', min_value=0.0, value=0.0)\n",
        "\n",
        "\n",
        "    # Collect user input data\n",
        "    input_data = {\n",
        "        'CreditScore': int(credit_score),\n",
        "        'Geography': geography,\n",
        "        'Gender': gender,\n",
        "        'Age': int(age),\n",
        "        'Tenure': int(tenure),\n",
        "        'Balance': float(balance),\n",
        "        'NumOfProducts': int(num_of_products),\n",
        "        'HasCrCard': 1 if has_cr_card == 'Yes' else 0,\n",
        "        'IsActiveMember': 1 if is_active_member == 'Yes' else 0,\n",
        "        'EstimatedSalary': float(estimated_salary)\n",
        "        }\n",
        "\n",
        "    df=pd.DataFrame([list(input_data.values())], columns=['CreditScore', 'Geography','Gender', 'Age', 'Tenure', 'Balance', 'NumOfProducts', 'HasCrCard', 'IsActiveMember', 'EstimatedSalary'])\n",
        "\n",
        "    # Binary Encode for Gender column\n",
        "    df=df.replace(gender_encode)\n",
        "\n",
        "    # Label Encode for Geography column\n",
        "    df['Geography'] = label_encode.fit_transform(df['Geography'])\n",
        "\n",
        "\n",
        "    if st.button('Make Prediction'):\n",
        "        features=df\n",
        "        result = make_prediction(features)\n",
        "        st.success(f'The prediction is: {result}')\n",
        "        if result == 1:\n",
        "          st.write(\"It indicates that the customer is expected to churn.\")\n",
        "        else:\n",
        "          st.write(\"It indicates that the customer is not expected to churn\")\n",
        "\n",
        "def make_prediction(features):\n",
        "    # Use the loaded model to make predictions\n",
        "    # Replace this with the actual code for your model\n",
        "    input_array = np.array(features).reshape(1, -1)\n",
        "    prediction = model.predict(input_array)\n",
        "    return prediction[0]\n",
        "\n",
        "if __name__ == '__main__':\n",
        "    main()\n"
      ],
      "metadata": {
        "colab": {
          "base_uri": "https://localhost:8080/"
        },
        "id": "uJXtpKIFAn2O",
        "outputId": "3974e0d6-995c-432e-c684-df069a8aa939"
      },
      "execution_count": 94,
      "outputs": [
        {
          "output_type": "stream",
          "name": "stdout",
          "text": [
            "Writing prediction_code.py\n"
          ]
        }
      ]
    },
    {
      "cell_type": "markdown",
      "metadata": {
        "id": "xZlEJkmSOoxC"
      },
      "source": [
        "## Install localtunnel"
      ]
    },
    {
      "cell_type": "code",
      "metadata": {
        "colab": {
          "base_uri": "https://localhost:8080/"
        },
        "outputId": "fbc19fab-35e1-4195-cc32-865d3556ab1f",
        "id": "ZAyqQCQVOoxC"
      },
      "source": [
        "!npm install localtunnel"
      ],
      "execution_count": 95,
      "outputs": [
        {
          "output_type": "stream",
          "name": "stdout",
          "text": [
            "\u001b[K\u001b[?25h\u001b[37;40mnpm\u001b[0m \u001b[0m\u001b[30;43mWARN\u001b[0m \u001b[0m\u001b[35msaveError\u001b[0m ENOENT: no such file or directory, open '/content/package.json'\n",
            "\u001b[0m\u001b[37;40mnpm\u001b[0m \u001b[0m\u001b[30;43mWARN\u001b[0m \u001b[0m\u001b[35menoent\u001b[0m ENOENT: no such file or directory, open '/content/package.json'\n",
            "\u001b[0m\u001b[37;40mnpm\u001b[0m \u001b[0m\u001b[30;43mWARN\u001b[0m\u001b[35m\u001b[0m content No description\n",
            "\u001b[0m\u001b[37;40mnpm\u001b[0m \u001b[0m\u001b[30;43mWARN\u001b[0m\u001b[35m\u001b[0m content No repository field.\n",
            "\u001b[0m\u001b[37;40mnpm\u001b[0m \u001b[0m\u001b[30;43mWARN\u001b[0m\u001b[35m\u001b[0m content No README data\n",
            "\u001b[0m\u001b[37;40mnpm\u001b[0m \u001b[0m\u001b[30;43mWARN\u001b[0m\u001b[35m\u001b[0m content No license field.\n",
            "\u001b[0m\n",
            "\u001b[K\u001b[?25h+ localtunnel@2.0.2\n",
            "updated 1 package in 0.533s\n",
            "\n",
            "3 packages are looking for funding\n",
            "  run `npm fund` for details\n",
            "\n",
            "found \u001b[92m0\u001b[0m vulnerabilities\n",
            "\n"
          ]
        }
      ]
    },
    {
      "cell_type": "markdown",
      "source": [
        "biar bisa akses dari gugel"
      ],
      "metadata": {
        "id": "1rOuB95FkoaR"
      }
    },
    {
      "cell_type": "markdown",
      "source": [
        "## Run streamlit in background"
      ],
      "metadata": {
        "id": "kccYE2lkN20y"
      }
    },
    {
      "cell_type": "code",
      "source": [
        "!streamlit run /content/prediciton_code.py &>/content/logs.txt &"
      ],
      "metadata": {
        "id": "Zv912rRAN0fs"
      },
      "execution_count": 96,
      "outputs": []
    },
    {
      "cell_type": "markdown",
      "source": [
        "tidak dipublish, namun disimpann di logs.txt untuk URL nya"
      ],
      "metadata": {
        "id": "fhp4uneHkvHG"
      }
    },
    {
      "cell_type": "code",
      "source": [
        "!curl ipv4.icanhazip.com"
      ],
      "metadata": {
        "colab": {
          "base_uri": "https://localhost:8080/"
        },
        "id": "szpYVIrLlaOR",
        "outputId": "f83dbbac-03a4-4192-bd58-681f79552b5f"
      },
      "execution_count": 97,
      "outputs": [
        {
          "output_type": "stream",
          "name": "stdout",
          "text": [
            "34.32.156.121\n"
          ]
        }
      ]
    },
    {
      "cell_type": "markdown",
      "source": [
        "IP ini jadi password buat yang dibawah"
      ],
      "metadata": {
        "id": "f8XbM9tNl8yx"
      }
    },
    {
      "cell_type": "markdown",
      "source": [
        "## Expose the port 8501\n",
        "Then just click in the `url` showed.\n",
        "\n",
        "A `log.txt`file will be created."
      ],
      "metadata": {
        "id": "h_KW9juhOCuH"
      }
    },
    {
      "cell_type": "code",
      "source": [
        "!npx localtunnel --port 8501"
      ],
      "metadata": {
        "id": "XTGAizLhOIgC",
        "outputId": "ff6840de-99c8-4cdc-9da0-cd6440bd9608",
        "colab": {
          "base_uri": "https://localhost:8080/"
        }
      },
      "execution_count": null,
      "outputs": [
        {
          "output_type": "stream",
          "name": "stdout",
          "text": [
            "\u001b[K\u001b[?25hnpx: installed 22 in 2.86s\n",
            "your url is: https://curly-berries-invent.loca.lt\n"
          ]
        }
      ]
    },
    {
      "cell_type": "markdown",
      "source": [
        "# Hasil Test Set\n",
        "\n",
        "1.  Test set pertama\n",
        "- Credit Score = 750\n",
        "- Geography = France\n",
        "- Gender = Male\n",
        "- Age = 30\n",
        "- Tenure = 5\n",
        "- Balance = 110000\n",
        "- Num of products = 4\n",
        "- Has Credit Card = Yes\n",
        "- Is Active member = Yes\n",
        "- Estimated Salary = 3000\n",
        "\n",
        "Churn Prediction = 1\n",
        "![image.png](data:image/png;base64,iVBORw0KGgoAAAANSUhEUgAAAjYAAADACAYAAAAX4ikYAAAAAXNSR0IArs4c6QAAAARnQU1BAACxjwv8YQUAAAAJcEhZcwAADsMAAA7DAcdvqGQAACydSURBVHhe7d0HeBRFGwfwF0KvoXeQIk0EBERAehUUFLuIBUVF+RDFihQbiKhgAVRABQQpIigqIr333nuR3iGQQCjJffN/swuXyyW5u4RwLP/f89yTu729u9nZ2dl3Z2YnqVyGEBERETlAausvERER0Q2PgQ0RERE5BgMbIiIicgwGNkREROQYDGyIiIjIMRjYEBERkWMwsCEiIiLHYGBDREREjsHAhoiIiByDgQ0RERE5BgMbIiIicgwGNkREROQYDGyIiIjIMRjYEBERkWMwsCEiIiLHYGBDREREjsHAhoiIiByDgQ0RERE5BgMbIiIicoxULsN6HrQuu6LkguuSXIy+LFHmeZQr2nqHiIiI6KqgDmwQ0ERERUpk9EVrCREREVH8gjawOW+CmTOXI6xXRERERIkLysAmIjpSwi+ft14RERER+SboBg+jpYZBDREREQUiqAIbjKlh9xMREREFKqgCGwwUJiIiIgpU0AQ2aK3h3U9ERESUFEET2GCeGiIiIqKkCJrABpPvERERESVF0AQ2mFGYiIiIKCmCKLDhv0kgIiKipAmawIaIiIgoqRjYEBERkWMwsCEiIiLHYGBDREREjsHAhoiIiByDgQ0RERE5BgMbIiIicgwGNkREROQYDGyIiIjIMRjYEBERkWMwsCEiIiLHYGBDREREjsHAhoiIiByDgQ0RERE5BgMbIiIicgwGNkREROQYDGyIiIjIMRjYEBERkWMwsCEiIiLHYGBDREREjsHAhoiIiByDgU0i3hj1kVTq2kQmr5lpLSFYsWud3P3h/dJ2UCc5GxluLRU5fPqofDJpoIyYP14uXb5kLU1eC7Yukx6/fa5/g4HL5ZK/Vs/QNG05uNNaSkRE18NNEdiER56TTiN6SJM+T/j0+HDil9YnyV8TV0yRcUsmydBZo2Xjge3W0uSDfTl09i/y58pp+hevr7ejZ47LoGnDNU0/zh1jLU0ZB08e1qBq/4lD1hIiopvbTRHYuCRaToWf1hOQL48z585anyR/1br1TsmbLbeUL3SrlMxX1Frqn/0nD2mAidYyT1kyZJK7S1eXzOkz6l+8vt5yZc0hd5WqLFkzZJGG5e+2ll474RcitAWx4/Bucl+/Z6T7r31l7b5N1rtERDe3VC60oweBIxdPWc9SBq50nxn8uj4f8dKXUjBnfn3uCSfXGRvnyyePvSv3Vm5kLSV0RXUe2UOK5y4q3z3fR0/qycX+7holq0q/tj2tpWRDUPPeuE+tVzFYPomIYnCMDdENBgHM2j7T9dH4tjrWUiIiArbYGIm12CzesUK+fvpjyZ89jwyYNkzmblksUdHRUiZ/CenR+nUpW7CktfZVyNYF25bJt9N/lu1HdktI6tRSsXA5ea15e7mtcBlrLe9OR4TJoOkjpGjuQtKmVmuZtPJf+XHOWDl46ojkyJJduztebfacZMuY1fpEjKnr5sjC7SvkubqPmd8Lkb5/fStLdq6SKsUqSP+2H2i3jb/pwnbi94fPHy/7TxyUzOkzS7OK9aRRhTry7thPpEiOArFabPYc2yc/zRsnebLmlBfqPykZ0qXX5Tbk+9A5Y2T+lqVyIvxUrO05GX5aP3vg5CFZtXuD5M2eWyoXK6+fK5yzwJXvw3bO2rRQP9esYn193+a5fXBrvuLySpOnpXbp6pIqVSpdZnPPs5xZQuWbqT+ZZXMl4kKEFM9TVDrf87zULVvDWjt+IxdMkA37t8jjNR6QO265zVoqcv5ipIxaMFHGL/tbjp05IZnSZZSapavI8/XbSLmCpXQdpPmXRb/LjA3zpEuLl6RikXK63BdsUSQiio0tNj7AyRAn0scHviwLty6XbBmyakCwYf9WeXtsLx2X4w53A338x9fy6oie8t/xfVKjZBWpVKS8rN67UTr81FWW7VpjrenduQvnZc7mxToY9YmBr0gv812Rly5IbhMsRFw4J+OX/i2dRnSXsHNnrE/E2HZ4t8zcMF/W/LdJOgx7V4Oa0IzZJE+2XBrU+JsurN9j/Gfy8e9fa1CTI3OoZEibXv5YOVXeGdNb0+Lp+NlTmoal21fLpejYd0XN3rRI2nzXSSYu/0cuRl2S2wqV1uXYni6jPpT9JujBZ9EVFe2K1jus/l07Rx/u34ftxDL8dee+fQhqSuYtqg88xzK853mnFr5jxvp5un8f+upF+Wv1dN3GjGkzyo4je6TnhH66nxOzZs9GTdPB04etJTFBzRu/fCQDpw/TgKxpxbomeCxt9u0Sk9/vXvne3cf2yrC542S1+Y7BM0fJ5ejLupyIiPzHwMYHuPMGJ9+naz8i83pOlOldx8i0d0ZLhcJlZN/xgzJvy1JrzRgTV/wjvy+fIvXL1ZRpZt2Bz/aSIe0/kzEdB0m2TFmk3+Tv4wQl3mw7vEtSmwBq4ms/yMz3xunv/vPmSKlUtLwGL+OXTrbWvOrchUjpP2WItlLMMp+Z8d5Y6f3oO/qev+katXCiTFk7W/JlzyOjXhlwJQ343jplqktUVJS1ZuK2mwACAVp4ZIS8eW8Hmd1tvIzqaL6z6zj57Ilu0rFJO6ld5k5Z+P4kbX0AdLPYXS5YN7FxPEgvtq9gzny6TeM6fa+P314dLLfkKaLvYR1PESaQHDB1mPn96jKn22+6jXO6j5cmt9fRQefIg0Cs3L1OVuxeKzVLVZEJrw6Rvo930/z+3ezP7vd31vIDaHnLmjFm2zDwOk3qNPqciIj8x8DGR6/f015eatRWW2oge6Zs5sRXV1sWth262nJw/OxJGbP4TymQI6+83uIFyZI+s/WOyK35i0vrqs3NFfo+Wb9vi7U0fjjJfdGmh56UbbgD56naD5mTX4jM2bQo1hwygPSEZs4m793fKVZXlb/pOnb2hPy+YoqkTpVK3mjxopS3WlcA39u6WnPJlD6DtSRxoxf9oWm4t3JDaXv3g1fyEa1h6E5y774JhJ3e9GnTSdeW/9NtsiH/sA14b8Lyf+RI2DHrnaseqt5CerZ+TTKmi9mmtGnSSvNKDTWf0b0WSCtK2PmzcuHSRSmau4h+n61IroIaNNnQEje247caUHV/oLO1lIiIAsHAxkehmbNbz65CFw+cMCds25aDO+TgqcN6u3ORnAWtpVcVyVVALl2+rN0cvkgtsceEQDnz3Tmz5JBDYUd13IanBuVqaVDkzt90bT24Uw6bAKBE3mJStfjtuixQJ8NPyQYTMCGwaFKhbpxxLsnBTm+pvLdIJWtcjjssw3voNkTrkScEqp7pyp4xm3YhhUWc0W4lfxXLXVhyZAmVyWum69w+nt1g7vA72Gd2wEdERIFhLZrM7Kv0xdtWSdNP28SZ/O/Tv77V9c5GRujfQGTPlEWDqshLkSZoCLOWXpUmJG5Xhr/pstcvlDO/jq1JisiLF+T0uTMaKJTIE9jcNomx04tuM29dVliG97AO1k0J6Grq2rKjCU1DdDbmer0e0skfMYCaiIiuDQY21wi6fKoUrxDnUb1kJR1EWtqtqyQl+ZuukFQh16SF5WaBbrZ/3h4h7Ru0kfRpM+jAaUyq1/+fIQm24BARUWAY2CQzjMlInSq13p786WPv6YBRbw/P25T9EXYuXLugMpgTZc4scbvIvPE3Xfb6YefPaItLUoSEhAhuP8edUKfN910LiaUXy/Ae1sG6KQljkjo1bSczuo6Vz5/oLtkyZdPbwyetmmatQUREyYWBTTIrnb+EDgbFWBXP28CTy+YD23XcCsZwFAjNZy1NmL/pwgDXbJmyyn/HD8ih00espYHBgOeS+Yrp/Dyr92ywliYve/viSy+W4T3MVeM+sDglYfxM04r1pMs9L+gg77V7+W8QiIiSGwObZIY7cGqVrir7ThzU2649uxswGRsmvfMF5q45GHbUehUDQcmQWb+YE6NLmlWse+UunsT4my5MTlc6X3H9vXFL/9L3bRhIi2n9cWu5L3D7crPb62lLyejFf8QZvItbzNfvv3qXGOaRwbr+tBbZ24f0fj9rZKztw3Msw3u4pRzblhK2HtopC7ctj5V3gLFRkNMau4T3cRv6s4Nfk3X7NusyIiIKTMgHhvX8uoqI8v+uk6Q4ez5cJ5qD1tXuuTKPiKdp6+bKrmN7pVGF2toq4A4n6JkbF+idQ5iNFzAeBTMSr9yzTpbsWK0Tv2G+l/CL5/X27N6TvtFZd5tUqKPdM97YaTsZcVomr55hTnZbJCIywpwkV+hkeXtPHJBmlepJx8bPxvqOZTvXyKo966VK8dvlrpJ3WEtj+JuutCFpJH+OvDJ38xJtZVm6c5VcvHzRfHaV9DLrbjAn4GhxSe4sOeW+Ko0lfZp0+juYHfnfdbMlR6bssZaXyFtU9pzYrzMKT1k7R06fC5MjYcd1DqAPJvTX36lXtoZkM/sBI3pmmHzdc3y/nDJBD2YkRhowNw8GRnvbTs/tW7pztVyKuiQb92+VL6cM1bwrmqeQdGv1aqw73BLKs/i2xRvPcoK5cXqO/1x+mDNG8y5z+kwarP227G8ZPGu0Bm8dGj8tBULz6gR9H/3+lew6ule7GFGW0GXmDW497//vUE3XjA3ztWxgbqBTpqws3rFSl0WbALVUvlusTxAR3VzYYnMN4N8zDG3/ubSq2lT+M0FI37+/lQ4/viNfTP5ezl6IkIa31ZLU8QQ17nBXzWv3vCCbDmw3gccAGTR9uJwIP6nf26P1a7HmRvGFv+mqXqKy9H70bQ1wVpnAAmkYOG24FArNp99TNn/cfyURH6S118Nvy4sNn5Ro12UZMX+8vD/hC90m3AbepcWLUjBHTLdacRMEYUwKum5+XfKnrocAwdv8M+6wfd8+20fHCeHfGyC9eKDLB3MODXuhvxTLU9ha+9rCfx//8KE3dN6e9Sa4enP0x9Kqfzv9lxxZM2XWfK1ySwVd158J+uyZne0ZmTE7M2D/2Ms8Z2QmIrqZpHJ5tpNfJyn9v6JSCrpSMB4G0pkTeK4sORK9y8jz/1jlM1f1CGguX76s89d4/v+lQPiTLnRR2b+fyZywvc3p4w/370vot93T6O92J+WzyQ1dYWh9QwtZfNuL9J6JPGvey6kBHRERBYaBTRDy9R90EhERUWy8NCQiIiLHYGBDREREjsHAhoiIiByDY2yIiIjIMdhiQ0RERI7BwIaIiIgcg4ENEREROQYDGyIiInIMBjZERETkGAxsiIiIyDEY2BAREZFjMLAhIiIix2BgQ0RERI7BwIaIiIgcg4ENEREROQYDGyIiInIMBjZERETkGAxsiIiIyDEY2BAREZFjMLAhIiIix2BgQ0RERI4RNIFNSCrGWERERJQ0QRTYhFjPiIiIiAITNIFNutRprGdEREREgQmawCZ9qrTWMyIiIqLABE1gkyZViGRInc56RUREROS/oBqxmzkkg/WMiIiIyH9BFdig1SZbmszWKyIiIiL/BFVgAxlTp5MsaTJar4iIiIh8l8plWM+Dyvnoi3LmcoT1ioiIiChxQRvYwGVXlERERUqkCXKIiIiIEhPUgY0NAc4F1yW5GH1ZoszzKFe09Q4RERHRVTdEYENERETki6AbPExEREQUKAY2RERE5BgMbIiIiMgxGNgQERGRYzCwISIiIsdgYENERESOwcCGiIiIHIOBDRERETkGAxsiIiJyDAY2RERE5BgMbIiIiMgxGNgQERGRYzCwISIiIsdgYENERESOwcCGiIiIHIOBDRERETkGAxsiIiJyDAY2RERE5BgMbIiIiMgxGNgQERGRYzCwISIiIsdgYENERESOwcCGiIiIHIOBDRERETkGAxsiIiJyDAY2RERE5BgMbIiIiMgxGNgQERGRYzCwISIiIsdgYENERESOwcCGiIiIHIOBDRERETkGAxsiIiJyDMcGNkeOHJWvvv5Oxo6bKBcvXrKWJr/w8Ah5qcPr0qBRK1mzZr21VCQiIkIGDxmuDzynqw4fPiIPPNhWH3h+o7hR003Jh8f1jSG+evlGMWToCKlSrb7+Jf8FVWAzb94iafVAG/ns82+sJYGb/M90+XnkOPnhx5Gydet2a2nKWbJ0pQz94Wd94DkR3fh4XBMFv6AKbC5cuCD79x+UM2fOWkuu+n7wML+i7zur3SGFChWUChXKSfHixaylKads2VulfLky+sDzlIB8a/9iZ71SwRXL9fTPlOl6xTF9+mxrScoLJA3+lrObyYGDh6Tl/W2ke4/e1pKbz/U4rp0kGOoFb4I1XRSYG6YrCgGPP26/vbz8NWm0fNX/E8mSJbO1NOUUKlhAfh7xnT7wPCWcO3dOjh8/Yb26vvzdX9dCIGkIhnQHq2NHj5uAOdx6dXO6Hse1kwTr8cXj3lk4eJiIiIgcI5XLsJ5fd2gGfKfrh9KieRPp9XE3XTbu199l06atsmLlajlx4qTUqlldsmfPru+1fuBeqVjxNn3uac9/+2Ts2AmSO3cuafvkI5IhQ4ZYy++8s4o0qF9bJv8zTUaOHCe7dv8nefPmkYcebClPtX1M0qVLq+u727Jlm3w3eJisWrVOoqKi5M5qlaXds0/KsOG/yLr1m+TLfr2lcuXbdd3Tp8Pkp2G/6PPn2j0poaExabaFnTkjv/76h/w7dabs3btfsmbNInXr1pL2zz0lhQsXtNYSOX8+UqZOmymTJk2RHTt3S2RkpJQqWVzT2Lx5Y0mVKtWV3zp46LAsWrRMsmfLKtWq3SFp0qTR73X//ejoaN3m0aN/0++L73cBVzE//DRSxz6hm6tI4ULSokUTefTRB8xvZLPWim3mrHmyYMES2bhxs35/zRp3ar5C7do1pFHDujrwtsMrb+i+6ff5x7p/h/4wQtZv2Kzpada0ofyvY3vJnDluS9u2bTtNmZgoy5atkkPme7KZbUX6X36pneTLl1fX8SUNnnwpZ0lJN/b3Dz+M1LQdPXpM8/IB872PPvKAZMwYUzYTg9/HuLH58xfrtmObsC3t2z91ZX+sW7dRfv9jsnaTPPZoa11mS6hMupdtu4w9/HArcyw2lSMmvThmDhw4JIuXLJeiRQpJpUox5bxQoQKxji/37UR68+fPFyeNNjs9+A7kw5QpM2T4iNHynzkeChbIL+1MGlve10zXXbBwqXz77Q+yfccuKWC+8/nn20qrls0ldeq412a+5rV7XYD9/cvo8VoOcNx88flHclv5staaVyWUh4EcL+7cP3/2bLjugzZtHpZ7WzTV7USd8+v4P/QYaNigjtSpU9P6pAiq8T8m/aP7H8cD6jbA9mC/Ia3YH999/5MsX7FGQkJCpEqVinrclC1bWtd1h+9bsmSFpmfz5m0+rb9y1VoZOWqcrDd1oWf6Z89Z4PMx6e+x4k+97MmfusLb/vX3GE4sn+zyjEHD6BbHefDuu+/S/MC5AuWvTJlS8kqH56VWreq6rg37esuW7V7Pi/HVC9j+5ctXyeOPPyRpzD4eMHCIzDf5Ub16Fendq7tcungp1jGKMuFrnXc9hXxgWM+vu1279siMmXPl1ltLSkOrQI0dO1FPxBgzEhUVrZURBgPjgUJY0hQKb/bs2SuDvvtRLkRekCaNG5hAJV2s5eiemmQqghE/j5X06dOZgplRjh07LitWrNZKCF1Z7tAH+/a7H8oOU7Fmz55NT6go6H9PnibHzYkQ7mnWSCtyQAHE7/y3d58uz5Iliy6HLSbtXd7oLtOmzdLXKGyuaJf+9ipT6FGQsf7ixcvlxQ6vy7//ztQDtvStJUwByqQH4MJFS7XyR17Zv4VxIZcvX5aIiHOyfftOzaPTYWFXfj8s7Iz0fP8TLaiovOvUrmlOSOn1QF26dIXcdVdVCbVO5khjp87v6HdWMxVFZXMiOxseLlOnzpKdJg/q1b1b0qaNG/zNmDFHTxAnT53W18gje3+VLHGLVK1aWfcl8i19uvSyees2GThoqO5bHCgnT542B80miTh3Xu6udZcGbnDOvP7o48+l72dfy+7deyVHjlDNt2PHTsjatRt0v9jb40saPPlSzgJJN6BS6fTqO7o/i5ig4K7q1eTY8RNaUdlBFE4cCUFl8+abPWTpspWmvKbXMR6oXBcvXia7THmw9wd+a6AJAFCG7WPIFl+ZxP5/rUs3OXToiNQwZaC8OaEjcPrzr38lPCLClLN88q05ISKoQMV82pQjO2/APr7s7VxoghB8NyrXU6fCNI0zzXGNQMEOPsFOT6Q5RpeZ7frhx58lrbmgQJCE30cQVbBgfpk7d6HZ71+ZPE2t5R+B1jwT3OXJk1vKlYt9kvUnr+26IF++POaiao6MHvOb7ss8JnDFCSuLl8o6vjwM9HixTTdltssb3cwJdotUuK2s5t1ukz7UOzjZVbmjov7FhQluiMAJGye2bFmz6udxQvukT3+5eOmSPP3045LJ1GeAcj3H5B/21Vdff2/25zmtu1A+ERDgvdvM76EuseEu0i+/+lY+7zdAzpn1a9U0J3uTR8uXr9b62dv6Q4YOl169+8m+fQdMHZhXihUrounH+pkyZTQBynGfjkl/jxV/62VPvtYV9v7ZYE7oefPkMcdIGV0XZXPZ8pUmEKh6ZV/Ex5d8qlSxgq6L4GfFyjVStGgR6dd/oClXG7RsYr/hsyvNe1WrVDbHQC5dH7Cv/5481et5Mb56AduPgPjWUiWkb9+vZIMpf7ly5jDnmpLSuFG9WMco6tkvv/rOpzrvujMVVdAwJ3rXHVXrubp172UtiWGiWteLL73mqt+wpWv16nXW0oRhPayPz+HzNns5fuepZzq4TKGy3nG5Jv05xXVXzcauZ9t1dJkdai11ucyVueue5g+7at7dzGWumFymctHlJthw/f7H3/p9nmk7dOiw6/7WT+oDz23mYHM9/ezLrqp3NnB9/c1glzlhW++4XKawusyVjfXKrHv8hOvDjz5zLV+x+spvwuTJ0zQtnumMb5sBnzcVm/7uNwMGuy5cuGi943KZk4qrcdPWrne6fui6eDFmuanYNI+wvTZ8x9KlK10maLKWxA/7EJ/HPvVk5w3eb3n/E7rdNmwrtuG+Vk+4du/+z1oaA/vHBBMuE6xZS1y6/R1e7qLb9cekydbSGAmlwZvEylkg6bb3N/LXVILW0piyY67IXNVrNI6Tbk8mkHXd2/Ix3edjx03UzwL2h6kQXabC0dcQ3zEE3sok9vcbb/Vw1a7T3DV/wWJdBviNWbPnxyq7CX33kSPHXI8/8bzuB2yXnUb8/fGnUXpc4X2sZ3PPz0cea+cylaQux3bhO7Ac+fNA67ZX8hrvoUzidzzLub95bR8vDRq1ivX7CfGWh5CU48Xev60fesq1ecs2a6lL64b3P+jjqlOvhR6j4J43OJ7xGvsQ66F8zJl7tf4A+xho3OQB3X9YH+w8QT527PRWrHpowsS/dHnX9z5yhYdfzV+k8+FHnolT79jrI/3ueYjvHDN2Qqx1Ezom/d1/gdTL8UkoXe6/gzrI/h1sX59Pv9TPdX69a6w89MaffBo8ZLh+L9Y3F3NXvhv1dvcevfU91OPuEtqG+I5d/A5+o0mzB3V/u9et4H6M+lNXX2837RgbXD2iifIWEzHbcGVyyy1F5eixYyYaPWUtFRPRTtarRDQVPvxQqyuRKa6gGjeqr9GtrxAh46oMzZwvtH86VhNmlSqVpH69u61XIrly5ZSePd6SauaqwT0armnSWapUce16wpWtL7Zv3yVTp80yUX4lbaZ172pDt1X9erVl/fqNehUCx4+flMyZMulVkw1pQBNlKRPdJwdcvfc3+wDbbdOr1dvLy2lzBXX4yFFraYxWLe+Rjq+0j9Wsj6u0pk0b6pUsuoZSgj/ptvf3Iw/fr10ENpQdtArgig2tMZfMlXZ8Jkz4Uw4ePCytWjXX5mC7uRr7A03l8XXH+sJUlHL2zFnJlj1rrMGw+A10Z8R3petpxsw5snXbDu0iQfmy04i/bZ98VOrWqaXv48rbE/Lzk949TB6W09fYrqZNGkiBAvkkp7l67NOn55W8xntoqShQIL8ek+6DmQPNa1yNdnzl+Su/H4ikHC/Yvxj03/75p6Rsmat3WqFuePSR1tpChxZawHc+/tiDehyjXsJVNK7sTRCqZaFmjdjdE7bXX39Fmpg8xefBzpMSJW7RPEMLBZww9d5vJj2oB1/u8FysLga0YLRs2VxbR0wApsvs9dFi1/nVl2LlIdKPtOIY9YW/+y856+WE2L+DLhx0jdq/g+174YVntHV/yZLl+ohPoPn0xOMPyVtvdrpynkC93aRxff2LLtuE6g1foe5EK81rnV+Ot8vU37r6ertpAxs0+6HCcIcmcOxYEx1rtw2cMjsNBzEqrUaN6l4p1IFAITRRrhYkNE3bhdVXJhDV5lg0O0eejxRzpaZ/fbFx0xbtY0fTquddYtgmnETw3WjmBHR1nI+M1O6WDRs3628nN3QBZsmcyXoVA/sga9asEnHunJ5wE4KxIOgSsNOMLriU4Gu67f2NZtvqd1bRZe6wH1Ch7N9/4Ep584Tyh/xH+UPQm5Ty5w26doqbExa6ob4eMFi7Z/yF7Vy1ep11QqkXK2gGvMZyvL/OBM+elbG3/MSxga4bvBfqUeFnzZLFVLQx4yBsSclrdCvcUbmi9SowgR4v9v4tkD+/dl95ypU7p26TuSLW8g44AT73XFvtnh7+8xgdW4EumGefbRMn721p06Sxnl2VN09uHd+B/EB3CGzfvlP2mRNmubKl44y5A4y1wHZi2ADY6+NCq+LtgQfY/u6/5KyXE2L/DvK8ngm2PH8HaUI3DLqZ1q7bYC2NK9B8Qn54/ib2NYZOoJ7BhUlyqGfqlrx5c1uv4kpqXZ3SbtrAxleYWwdjGUJzhMa6GguEfXWMg6S4uSLyBYIgDJTt/HpXqVv/PmnS7EHp2OktHWfjD4wfAlw1YBJEz4c9QzO2Fx42V024Wti6dYc8/czL8vCjz8qEiX/qYObrCVc+mByt9YNPSe26LfQvBpwGI3t/Y2xO95694+T5E23aa582WgwwNsobu/zhBOfeuphcUGliQCiu5jGIEvv5mXav6JgClD1f2NuJStgeeOkJy/F+clTGCJBCzMNdUvIa34XvTIpAjxd7/6JF4KWXu8RJd/sXOpsLkqNWuqOsT4nUuKuatGjRVMdHYb+1efxhbVHxB/Z90aKF9bldPyAPcaJCC9H9rZ+Mk54v+g3U9ZDPYK9ftEhhHfcWKH/3X3LWywmxfwd1NsbEeGPX5Wi1i09y5dO1ktTyH2wY2PgoJCRuZXqt4cqk82tdpcMrXeTokWM6+vzPP0bL7Jl/6gSEgcAgMQw683zgquP+Vi20yRFw5fdGl47yy8ghepcaruh7f9JfHnzoKW0Ovh4wUPCB1m31ziDc5fDdoC9k3pzJ0rfP+9YawQmtD7hK85bvaMlANw2ufq4XVNqfftJTvv+uvw48RJfeO+9+II+bkwkGxd5IrldeJ/V4wZ2MlStViJNmdEPjzhPcuZUmzdVBs5cuXZaT1uBYLA/NcfXurORQuFDBOGnBAwFVy/vuifemjaTyd/9dj3qZgh9LRCJSWVdzuPLC3SBJkSp1Kuu7zutVQELQlI1bGHFnyEsvPiu/jBqifbxoHk7sDhpvcBcUoD/4/Z5vx/vwHK9RunRJveVw+tQJesso7jTAv7wIpMsiKXDL6YABQyR/vjwyfNggTSsqe89utWBi7++Q1CE6BsAzr+1Hl9dfiTMdgC05y19CcPWOk+iAb/rKv1N+05Mzuhv69v063m4ymy/lGsvxPtbD+sktOfI6Ofh7vNj7N03atNKhQzuvacYD42/cT+gYq4Rb4DHuCtMPDB8xRmeG9gfqGEw1AbjDDFKbugXpQT2D8X3e0oKHfRu0vf7Zs2evdJUFwt/9l2LHhQ+/g7u2wD3w9JRc+US+YWCTCFxJFTEHOcaf2APsAoX+YMxBgC4f9Ccn1A+P8SK7zYkFgyTvu6+ZHhRJcXuFchoEoD8/seZxbzCIEAN3MXDt2LFjVyrElIK+dTTXNzJXbf42uV8v2N8Yv4F5OdCMHoicOUJ1gCe6CjDvha/QjeRZvnCrry/dQBg38PZbr2qrmC8D1O3tTGicAZbjfZR/rJ/ckiOvk5Ovxwv2b+nSpXSdbVt3WEsThgBm1C+/yq23lpBO/3tRu6EQhI4c9avPY3vgqClT6NLGTQplTBoAxxbqHCzH+4kpUbyYjnfatn2X7D/gX2Dlzt/9l5z1ckLs/RPf72BsEG69B3tuJ2+SK598cclLt/a1DP6C0Q0R2CASxvwkvrR0JDdcJWEuBZj4+986xsOGSmTRoqWmsO60liQOdx+h6R9XXJi3xh0qfsxjg+/FiSnKPBDdh52OXSixDiYU9JQhYwbBqHtUDp5XBRUqlNcR7ZhgCZWiZwVo/6YN81vYd0jZ0LeNeTIyZsiYaEsJBqWCfTWTVPbBeuLEqVhpx39YxuRf3vibhmtRznB3Rr68eXRCLsxN4clbAOIOA2hxpxG6On799XfZaQ3atKE1BQPDbThJYQC854kJd/l90W+A/td7d6iYURZRZtxhYCoGp6M8YWwMYLA90uHtqtPeTsx947mdeI3leL9Z00bW0uSX1LxOikCPF+zf5vc0MhcuIfKtNT+OJ/fB1kg/Api9Zj204CIIRavNXdWryp9/TpF58xdZa8aGk6n78Y3nOknnjl1yhwlg7Tu3cOcR5tHC8u+/H6Z1kjvPegItO+gWR7kaZfLd86IJAZd7mUvomPRn/yV3vRxfuuz9g+NglMl3z/2D+Y8wzgmBIbrz4+NvPgXCHuy9evX6WOUcE/Cl5H8JR53Uq/cX+kistfdaCfoJ+gDdKDjQVq5cK3v37RdM1IUJh9B8jpH93mDAHW5vRkWPPmoUzISWAw7iaeY9HCTukzphgN3mzVv1zg9MyIQBZZgk7qdho2T0mAlXWlPcP2NP5gb33dvMVGwxJweMYUH/+IKFS/QWTRRmnERXm+/+/ItvZJKpnDAZFwopRuMj+ME4hzQhafTOhWHDR+sDwRHS4f6bOAgxORrumsLkSefMCRpBEL4LJycMssNEaHNMIID8Q+HHxFQzZ82Vj00hPHLkmFaQ+HzPnp/ImLETNX25cuY0V5Qn5Pshw/RAxpU8bk90zztPOJFihly7ItixY7cOritm8jK+vLEhX7ab/Y2rXbsvHwMnF5o8w4yXZ8+G651r800l3rtPf21RwLagUnYvNwmlwZvEylkg6cYEWvj8wkXLTNmaHVN5mToH+3KsCVQ+7fuVtshgFtP4FCtWVMstuiVnmeMD6UDQgonv+pjPY5/XvruG7uNM5sp3ydIVWl5RplDW8H6//oN0AjFU4Djh2ulHpfzRR5/JxIl/aWWLO5B2mqBowKChmg+NGtbR4wTdn8jjufMWa9CE/Ef+YooAXI3irjp7O2fNmqcBJ1qZcAvvwIFD9IoRE8c1aVJf14OE8jOh9+zjFK2a7u/5m9cJ1QXx8ZYudJMm5XjBbfYo0xiLM92kG7+Bi5r1GzbJiBFj5DsT8FS7s4q2HmDf4jW6Yds//7Q55tPo96JemTV7nl7w4FZpe4I+u0ziuEfdhYAUwfGgQT/IlH9n6L7r3v1NDZAA+Yc7pXCcoWwsMmUsOtql+xN1Fibtw2SeuKsTZQKP4iWKyYrlqzVtS5Yu1zL333/79Db2z78YaOq3cFM+YyZwS+iY9Hf/BVIvxyehdLnvH/wOjh/M5oztQ12M3+nYsX28sxuDv/mEwA638WMqjqrWJIG2+Motjs85cxfoJIL4XpxXMLs9ZmDG9xw3ZRJ55l5HJvQ7kNBxCN7qPJSrwUOG6/kLv4c77FLaDRHYAOZ3wEkHJ2occKisUQnjROxNcgY2uIpHtH3w4CHtDkCrB9IA3d57Q5sY0cXjS2CDQovABc29OGkuM9H0bFM4sD24anu5Qzud4wYHy+0VymtXACJutEpg+msMrvvs0w/0BIbPe6YTByLmU1i9Zp1+L7oAMHYCt2ni5IzZeTFNOe56wAkIs+1iRlEEPxg8jL/osy9brrTOaIsr0QnmpDfRXBVhLhzc8vhe1y46v0hCShS/xVQMJ0xgtka3DfkVZSoE9M3jhOTvwYJKD3m2TCuFFfrvNzZsiJnzAs3x8xfEzETrXm4SSgP2gzcJlbNADnLAfixjvneTqYRxBwtaSFAGd+7co/ujQf06egtnfFApYsZVtJhgBlIEONi3S5eu1G3G9qMZH9uEMoCT1VpTNnCLKdKP2XAxZubNN/4ny1es0qsoO/0IBmOC6O2ap+N/m2S2caq2PuDfi7zWuYNeHQPGNoSGZtMTD/71BNKAIAi3ioZmz67bif+kjzKH4Bnv46SDNOI4ebD1fbHyPaH8TOi9+AIb8CevkyuwyZ07Z5KOF+xfDMpFPbLa7CucYHFc4vjEjL2NTXlCnYBZ1DHz9unTYbov3QN0BJZhYWdlmtmHqU1AjvKKvEaZRBCMrkXUr7hwwskZ+7dChXLy4QfvarDgDtvUoEEdnXUYZWz2nPlaJlCWEBijhQjHib0vse+xnQhEcJLEsYh9jzvE6ph0Y4wgLsQgsWPSn/0XSL0cn4TShQse7B9sAwIT1MXYPgyyR3dg717dNG2J8SefAglsMEs3WlTXrt2o+YdtOG7t+zp1asn0mXM0SLvWgQ2CxNmzF2i+4d874E6wlBZU/ysqMUgqMg1Ns2idQGXhXlGmBFQquOpBEIIKLSljX9y3J6Hvs3/T121GxX/q9Glxmas+FERvzeAosPbkZjhxxTeg0n29+L4rIcmZX+C+bUiz+4DK+PibhmtVzty/F3xNvzs0x+NKMjo6KsG0+VIGPNn5BAmlDetgXfC2XjAcp8mR14FI6vHivn8xcDVHaKierALVvUdvvZsQdw7iln57HyMvkCeJcd/XvuxL9/UT2n47HfEdk/7uv8S+z1eJfY/7/vE1D73xNZ8CYZfB5Cg/gbK3LdD8SaobKrAhIiLfeQY2RDeDpF0+ExEREQURBjZERETkGAxsiIiIyDE4xoaIiIgcgy02RERE5BgMbIiIiMgxGNgQERGRYzCwISIiIsdgYENERESOwcCGiIiIHIOBDRERETkGAxsiIiJyDAY2RERE5BgMbIiIiMgxGNgQERGRYzCwISIiIsdgYENERESOwcCGiIiIHIOBDRERETkGAxsiIiJyDAY2RERE5BgMbIiIiMgxGNgQERGRYzCwISIiIsdgYENERESOwcCGiIiIHIOBDRERETkGAxsiIiJyDAY2RERE5BgMbIiIiMgxGNgQERGRYzCwISIiIsdgYENERESOwcCGiIiIHIOBDRERETmEyP8BGzoWlhwfVhEAAAAASUVORK5CYII=)\n",
        "\n",
        "2. Test set kedua\n",
        "- Credit Score = 500\n",
        "- Geography = Germany\n",
        "- Gender = Female\n",
        "- Age = 30\n",
        "- Tenure = 0\n",
        "- Balance = 10000\n",
        "- Num of products = 0\n",
        "- Has Credit Card = No\n",
        "- Is Active member = Yes\n",
        "- Estimated Salary = 29999,99\n",
        "\n",
        "Churn Prediction = 0\n",
        "![image.png](data:image/png;base64,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)\n"
      ],
      "metadata": {
        "id": "nqAhkUFPWd5z"
      }
    }
  ]
}